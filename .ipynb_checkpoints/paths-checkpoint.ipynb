{
 "cells": [
  {
   "cell_type": "code",
   "execution_count": 2,
   "id": "feb0a99d-b187-4376-92f8-7e70a8d93663",
   "metadata": {},
   "outputs": [],
   "source": [
    "import numpy as np\n",
    "import pandas as pd\n",
    "from pathlib import Path\n",
    "import tensorflow as tf\n",
    "from tensorflow.keras import layers, models"
   ]
  },
  {
   "cell_type": "code",
   "execution_count": 9,
   "id": "d4ce626d-0064-4202-bec1-16b9088c167b",
   "metadata": {},
   "outputs": [],
   "source": [
    "path_train = Path(\"../data/real_vs_fake/real-vs-fake/train_tiny\")\n",
    "path_test = Path(\"../data/real_vs_fake/real-vs-fake/test_tiny\")"
   ]
  },
  {
   "cell_type": "code",
   "execution_count": 10,
   "id": "23454dd9-8b50-4814-8b50-c2655129a167",
   "metadata": {},
   "outputs": [],
   "source": [
    "batch_size = 10\n",
    "img_height = 224\n",
    "img_width = 224"
   ]
  },
  {
   "cell_type": "code",
   "execution_count": 11,
   "id": "4fd0b5cd-a19e-42e4-8404-38ef152b45d8",
   "metadata": {},
   "outputs": [
    {
     "name": "stdout",
     "output_type": "stream",
     "text": [
      "Found 2540 files belonging to 2 classes.\n"
     ]
    }
   ],
   "source": [
    "train_ds = tf.keras.utils.image_dataset_from_directory(\n",
    "  path_train,\n",
    "  image_size=(img_height, img_width),\n",
    "  batch_size=batch_size)"
   ]
  }
 ],
 "metadata": {
  "kernelspec": {
   "display_name": "Python 3 (ipykernel)",
   "language": "python",
   "name": "python3"
  },
  "language_info": {
   "codemirror_mode": {
    "name": "ipython",
    "version": 3
   },
   "file_extension": ".py",
   "mimetype": "text/x-python",
   "name": "python",
   "nbconvert_exporter": "python",
   "pygments_lexer": "ipython3",
   "version": "3.11.5"
  }
 },
 "nbformat": 4,
 "nbformat_minor": 5
}
